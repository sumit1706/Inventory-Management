{
 "cells": [
  {
   "cell_type": "code",
   "execution_count": 1,
   "id": "4ba8ac4d",
   "metadata": {},
   "outputs": [],
   "source": [
    "import json\n",
    "import datetime as dtm\n",
    "\n",
    "fd = open(\"Records.json\")\n",
    "txt = fd.read()\n",
    "fd.close()"
   ]
  },
  {
   "cell_type": "code",
   "execution_count": 2,
   "id": "95bf8a42",
   "metadata": {},
   "outputs": [
    {
     "name": "stdout",
     "output_type": "stream",
     "text": [
      "ID    | Product Name\t    |  Weight  | Price(Rs)\n",
      "------|---------------------|----------|-----------\n",
      "1001  | Soyabean Refine Oil |\t1L     |  90\n",
      "1002  | Peanuts             |\t250g   |  65\n",
      "1003  | Milk                |\t1L     |  45\n",
      "1004  | Atta                |\t10kg   |  375\n",
      "1005  | Mustard Oil         |\t1L     |  105\n",
      "1006  | Washing Powder      |\t1kg    |  75\n",
      "1007  | Rice                |\t5kg    |  200\n",
      "1008  | Daal                |\t1kg    |  80\n",
      "1009  | Butter              |\t250g   |  65\n",
      "1010  | Choclate            |\t50g    |  25\n",
      "1011  | Biscuit             |\t120g   |  10\n",
      "1012  | Choco Cake          |\t60g    |  15\n",
      "1013  | Fruit Cake          |\t60g    |  15\n",
      "1014  | Bourn Vita          |\t500g   |  195\n",
      "1015  | Bathing Soap        |\t125g   |  25\n",
      "1016  | Bislery Water       |\t1L     |  20\n",
      "1017  | Coco Cola           |\t1.25L  |  65\n",
      "1018  | Sprite Drink        |\t750mL  |  45\n",
      "1019  | Baked Cookies       |\t150g   |  25\n",
      "1020  | Bread               |\t500g   |  45\n",
      "1021  | Whole Wheat Bread   |\t500g   |  50\n",
      "1022  | Potato Chips        |\t50g    |  40\n",
      "1023  | Detergent Bar       |\t150g   |  25\n",
      "1024  | Ice Cream           |\t120g   |  35\n",
      "1025  | Coconut Oil         |\t100mL  |  54\n",
      "1026  | Walnut              |\t1kg    |  399\n",
      "1027  | Mix Dry Fruits      |\t250g   |  320\n",
      "1028  | Baking Powder       |\t50g    |  25\n",
      "1029  | Mushroom            |\t250g   |  45\n",
      "1030  | Peeled Garlic       |\t100g   |  60\n",
      "1031  | Onion               |\t1kg    |  35\n",
      "1032  | Shaving Cream       |\t50g    |  45\n",
      "1033  | Deodrant            |\t180mL  |  225\n"
     ]
    }
   ],
   "source": [
    "# Displays all products and their price with ID\n",
    "print(\"ID    | \"+\"Product Name\\t    |  \"+\"Weight  \"+\"| Price(Rs)\")\n",
    "print(\"------|---------------------|----------|-----------\")\n",
    "js = json.loads(txt)\n",
    "iD = 1001\n",
    "for i in range(len(js)) :\n",
    "  print(iD,\" | \"+js[str(iD)][\"Product_Name\"]+\" |\\t\"\n",
    "    +js[str(iD)][\"Weight\"]+\" |  \"+str(js[str(iD)][\"Price\"]))\n",
    "  iD+=1"
   ]
  },
  {
   "cell_type": "code",
   "execution_count": 3,
   "id": "0de55ee6",
   "metadata": {},
   "outputs": [
    {
     "name": "stdout",
     "output_type": "stream",
     "text": [
      "Enter total number of items : 1\n",
      "Enter product ID : 1008\n",
      "Enter quantity : 1\n",
      "\n",
      "***************************************\n",
      "\n",
      "Selected items\t    | Quantity | Amount\n",
      "--------------------|----------|-------\n",
      "Daal                | \t 1     |  80\n",
      "***************************************\n",
      "Total Amount to be paid :\t  80\n"
     ]
    }
   ],
   "source": [
    "# Takes User input that he wishes to buy and displays bill\n",
    "no = int(input(\"Enter total number of items : \"))\n",
    "lst=[]\n",
    "for i in range(no) : \n",
    "  uID = int(input(\"Enter product ID : \"))\n",
    "  qty = int(input(\"Enter quantity : \"))\n",
    "  if qty < js[str(uID)]['Stock'] :\n",
    "    lst.append([uID,qty,js[str(uID)]['Price']*qty])\n",
    "  else :\n",
    "    print('*******Not Available*******')\n",
    "    qty = 0\n",
    "print(\"\\n***************************************\\n\")\n",
    "print(\"Selected items\\t    | \"+\"Quantity\"+\" | \"+\"Amount\")\n",
    "print(\"--------------------|----------|-------\")\n",
    "amt=0\n",
    "for i in lst:\n",
    "  print(js[str(i[0])]['Product_Name'],\"|\",\"\\t\",i[1],\"    | \",i[2])\n",
    "  amt += i[2]\n",
    "print(\"***************************************\")\n",
    "print(\"Total Amount to be paid :\\t \" , amt)\n",
    "\n",
    "\n",
    "# Update the items in the Inventory\n",
    "for i in lst:\n",
    "  js[str(i[0])]['Stock'] = js[str(i[0])]['Stock']-i[1]\n",
    "fd = open(\"Records.json\",\"w\")\n",
    "fd.write(json.dumps(js))\n",
    "fd.close()\n",
    "\n",
    "# Update sales file\n",
    "sdict = {}\n",
    "nxtDict = len(sdict)+1\n",
    "for i in lst:\n",
    "  sdict.update({str(nxtDict):{\"Product_Name\":js[str(i[0])]['Product_Name'],\"Quantity\":i[1],\"Amount\":i[2]}})\n",
    "  nxtDict+=1\n",
    "\n",
    "date = dtm.datetime.now()\n",
    "day = str(date.year)+\"-\"+str(date.month)+\"-\"+str(date.day)\n",
    "time = str(date.hour)+\":\"+str(date.minute)+\":\"+str(date.second)\n",
    "\n",
    "fs = open('Sales.json','r')\n",
    "sls = fs.read()\n",
    "fs.close()\n",
    "\n",
    "sjs = json.loads(sls)\n",
    "nxtId = len(sjs)+1\n",
    "nxtId\n",
    "cnt = 0\n",
    "while cnt<nxtId : \n",
    "  cnt+=1\n",
    "sjs.update({str(nxtId):{\"Date\":str(day),\"Time\":str(time),\"Products\":sdict,\"Bill_Amount\":amt}})\n",
    "\n",
    "fs = open('Sales.json','w')\n",
    "fs.write(json.dumps(sjs))\n",
    "fs.close()"
   ]
  }
 ],
 "metadata": {
  "kernelspec": {
   "display_name": "Python 3",
   "language": "python",
   "name": "python3"
  },
  "language_info": {
   "codemirror_mode": {
    "name": "ipython",
    "version": 3
   },
   "file_extension": ".py",
   "mimetype": "text/x-python",
   "name": "python",
   "nbconvert_exporter": "python",
   "pygments_lexer": "ipython3",
   "version": "3.8.8"
  }
 },
 "nbformat": 4,
 "nbformat_minor": 5
}
