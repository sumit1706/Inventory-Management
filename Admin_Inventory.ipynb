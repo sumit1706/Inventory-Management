{
 "cells": [
  {
   "cell_type": "code",
   "execution_count": 5,
   "id": "829fa80b",
   "metadata": {},
   "outputs": [],
   "source": [
    "import json\n",
    "fs = open('Records.json')\n",
    "txt = fs.read()\n",
    "fs.close()\n",
    "js = json.loads(txt)"
   ]
  },
  {
   "cell_type": "code",
   "execution_count": 9,
   "id": "7bd9a7ac",
   "metadata": {},
   "outputs": [
    {
     "name": "stdout",
     "output_type": "stream",
     "text": [
      "Total items to re-stock : 1\n",
      "Enter product ID : 1001\n",
      "Enter quantity to add in the stock : 2\n",
      "New Stock  183\n"
     ]
    }
   ],
   "source": [
    "# Update stock of an existing product\n",
    "lst = []\n",
    "n = int(input(\"Total items to re-stock : \"))\n",
    "for i in range(n):\n",
    "  p_id = int(input(\"Enter product ID : \"))\n",
    "  p_qty = int(input(\"Enter quantity to add in the stock : \"))\n",
    "  js[str(p_id)]['Stock'] = js[str(p_id)]['Stock'] + p_qty\n",
    "  print(\"New Stock \",js[str(p_id)]['Stock'])"
   ]
  },
  {
   "cell_type": "code",
   "execution_count": 10,
   "id": "3b440a8a",
   "metadata": {},
   "outputs": [
    {
     "name": "stdout",
     "output_type": "stream",
     "text": [
      "Total new items to add in the inventory : 1\n",
      "Product ID assigned : 1034\n",
      "Enter product Name : Tomato Ketchup\n",
      "Enter weight of product(with unit eg.1kg/1L/100mL/100g) : 1kg\n",
      "Enter product price : 285\n",
      "Enter quantity to add in the stock : 100\n"
     ]
    }
   ],
   "source": [
    "# Add new product in the Inventory\n",
    "new_lst = []\n",
    "num = int(input(\"Total new items to add in the inventory : \"))\n",
    "for i in range(num):\n",
    "  n_Id = len(js)+1001\n",
    "  print(\"Product ID assigned : \"+str(n_Id))\n",
    "  n_name = input(\"Enter product Name : \")\n",
    "  n_wt = input(\"Enter weight of product(with unit eg.1kg/1L/100mL/100g) : \")\n",
    "  n_rs = int(input(\"Enter product price : \"))\n",
    "  n_qty = int(input(\"Enter quantity to add in the stock : \"))\n",
    "  while len(n_name) < 19:\n",
    "    n_name = n_name + \" \"\n",
    "  while len(n_wt) < 6:\n",
    "    n_wt = n_wt + \" \"\n",
    "  js.update({str(n_Id):{\"Product_Name\":n_name,\"Weight\":n_wt,\"Price\":n_rs,\"Stock\":n_qty}})"
   ]
  },
  {
   "cell_type": "code",
   "execution_count": 11,
   "id": "955c7a8c",
   "metadata": {},
   "outputs": [],
   "source": [
    "fs = open('Records.json','w')\n",
    "fs.write(json.dumps(js))\n",
    "fs.close()"
   ]
  }
 ],
 "metadata": {
  "kernelspec": {
   "display_name": "Python 3",
   "language": "python",
   "name": "python3"
  },
  "language_info": {
   "codemirror_mode": {
    "name": "ipython",
    "version": 3
   },
   "file_extension": ".py",
   "mimetype": "text/x-python",
   "name": "python",
   "nbconvert_exporter": "python",
   "pygments_lexer": "ipython3",
   "version": "3.8.8"
  }
 },
 "nbformat": 4,
 "nbformat_minor": 5
}
